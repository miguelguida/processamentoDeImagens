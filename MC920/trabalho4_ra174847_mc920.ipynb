{
 "cells": [
  {
   "cell_type": "code",
   "execution_count": 8,
   "metadata": {},
   "outputs": [
    {
     "ename": "TypeError",
     "evalue": "'NoneType' object does not support item assignment",
     "output_type": "error",
     "traceback": [
      "\u001b[0;31m---------------------------------------------------------------------------\u001b[0m",
      "\u001b[0;31mTypeError\u001b[0m                                 Traceback (most recent call last)",
      "\u001b[0;32m<ipython-input-8-7749c76ae0f1>\u001b[0m in \u001b[0;36m<module>\u001b[0;34m\u001b[0m\n\u001b[1;32m     11\u001b[0m \u001b[0;34m\u001b[0m\u001b[0m\n\u001b[1;32m     12\u001b[0m \u001b[0;31m# inverter a imagem\u001b[0m\u001b[0;34m\u001b[0m\u001b[0;34m\u001b[0m\u001b[0;34m\u001b[0m\u001b[0m\n\u001b[0;32m---> 13\u001b[0;31m \u001b[0mimg\u001b[0m\u001b[0;34m[\u001b[0m\u001b[0mimg\u001b[0m \u001b[0;34m==\u001b[0m \u001b[0;36m0\u001b[0m\u001b[0;34m]\u001b[0m \u001b[0;34m=\u001b[0m \u001b[0;36m1\u001b[0m\u001b[0;34m\u001b[0m\u001b[0;34m\u001b[0m\u001b[0m\n\u001b[0m\u001b[1;32m     14\u001b[0m \u001b[0mimg\u001b[0m\u001b[0;34m[\u001b[0m\u001b[0mimg\u001b[0m \u001b[0;34m==\u001b[0m \u001b[0;36m255\u001b[0m\u001b[0;34m]\u001b[0m \u001b[0;34m=\u001b[0m \u001b[0;36m0\u001b[0m\u001b[0;34m\u001b[0m\u001b[0;34m\u001b[0m\u001b[0m\n\u001b[1;32m     15\u001b[0m \u001b[0;34m\u001b[0m\u001b[0m\n",
      "\u001b[0;31mTypeError\u001b[0m: 'NoneType' object does not support item assignment"
     ]
    }
   ],
   "source": [
    "# TRABALHO 4 de MC920 \n",
    "# Aluno: Miguel Augusto Silva Guida     RA: 174847\n",
    "\n",
    "\n",
    "\n",
    "import cv2\n",
    "import numpy as np\n",
    "import matplotlib.pyplot as plt\n",
    "\n",
    "img = cv2.imread('bitmap.pbm', 0)\n",
    "\n",
    "# inverter a imagem\n",
    "img[img == 0] = 1\n",
    "img[img == 255] = 0\n",
    "\n",
    "\n",
    "# conta quantas transicoes de preto p/branco tem na horizontal\n",
    "def horizontalTransitions(array):\n",
    "    count = 0\n",
    "    x, y = np.shape(array)\n",
    "    for i in range(0,x):\n",
    "        for j in range(0,y -1):\n",
    "            if array[i][j] != array[i][j+1]:\n",
    "                count += 1\n",
    "    return count\n",
    "\n",
    "# conta quantas transicoes de preto p/branco tem na vertical\n",
    "def verticalTransitions(array):\n",
    "    count = 0\n",
    "    x, y = np.shape(array)\n",
    "    for i in range(0,x -1):\n",
    "        for j in range(0,y):\n",
    "            if array[i][j] != array[i+1][j]:\n",
    "                count += 1\n",
    "    return count\n",
    "\n",
    "\n",
    "# ----- Segmentação por linhas -----\n",
    "\n",
    "\n",
    "# PASSOS DO TRABALHO\n",
    "kernel = np.ones((1, 100),np.uint8) #12 para separar palavras\n",
    "# 1 DILATACAO\n",
    "dilation = cv2.dilate(img,kernel,iterations = 1)\n",
    "# 2 EROSAO\n",
    "erosion1 = cv2.erode(dilation,kernel,iterations = 1)\n",
    "\n",
    "cv2.imwrite('dilation1-lines.pbm', dilation)\n",
    "cv2.imwrite('erosion1-lines.pbm', erosion1)\n",
    "\n",
    "plt.subplot(121),plt.imshow(dilation, cmap = 'gray')\n",
    "plt.title('Dilatacao'), plt.xticks([]), plt.yticks([])\n",
    "plt.subplot(122),plt.imshow(erosion1, cmap = 'gray')\n",
    "plt.title('Erosao'), plt.xticks([]), plt.yticks([])\n",
    "plt.show()\n",
    "\n",
    "kernel = np.ones((200, 1),np.uint8) #20 para separar palavras\n",
    "# 3 DILATACAO\n",
    "dilation = cv2.dilate(img,kernel,iterations = 1)\n",
    "# 4 EROSAO\n",
    "erosion2 = cv2.erode(dilation,kernel,iterations = 1)\n",
    "\n",
    "cv2.imwrite('dilation2-lines.pbm', dilation)\n",
    "cv2.imwrite('erosion2-lines.pbm', erosion2)\n",
    "\n",
    "plt.subplot(121),plt.imshow(dilation, cmap = 'gray')\n",
    "plt.title('Dilatacao'), plt.xticks([]), plt.yticks([])\n",
    "plt.subplot(122),plt.imshow(erosion2, cmap = 'gray')\n",
    "plt.title('Erosao'), plt.xticks([]), plt.yticks([])\n",
    "plt.show()\n",
    "\n",
    "# 5\n",
    "andArray = np.logical_and(erosion1, erosion2)\n",
    "\n",
    "step5 = np.where(andArray, 1, 0)\n",
    "step5 = np.uint8(step5)\n",
    "\n",
    "cv2.imwrite('step5-lines.pbm', step5)\n",
    "\n",
    "# 6\n",
    "kernel = np.ones((1, 30),np.uint8) #12 para separar palavras\n",
    "closing = cv2.morphologyEx(step5, cv2.MORPH_CLOSE, kernel)\n",
    "\n",
    "cv2.imwrite('closing-lines.pbm', closing)\n",
    "\n",
    "plt.imshow(closing, cmap='gray')\n",
    "plt.show()\n",
    "\n",
    "\n",
    "# 7\n",
    "contours, hier = cv2.findContours(closing, cv2.RETR_EXTERNAL, cv2.CHAIN_APPROX_SIMPLE)\n",
    "\n",
    "#volta imagem para seu estado inicial.\n",
    "img[img == 0] = 255\n",
    "img[img == 1] = 0\n",
    "img[img == 255] = 1\n",
    "\n",
    "        \n",
    "regioesClassificadas = 0\n",
    "for c in contours:\n",
    "    # pega dimensoes do retangulo\n",
    "    x, y, w, h = cv2.boundingRect(c)\n",
    "    \n",
    "    \n",
    "    array = img[y:y+h, x:x+w]\n",
    "    black = array[array == 0].size\n",
    "    white = array[array == 255].size\n",
    "    black_ratio = black/array.size\n",
    "    horz = horizontalTransitions(array)\n",
    "    vert = verticalTransitions(array)\n",
    "    trans_ratio = (horz + vert)/(black +1)\n",
    "    #print(x, x+w, y, y+h, np.shape(array), \" --- \",black, white, \" --- \", trans_ratio)\n",
    "    \n",
    "    # desenha retangulo apenas se ele eh classificado como texto.\n",
    "    if(black_ratio > 0.1) & (black_ratio < 0.8) & (trans_ratio > 0.60) :\n",
    "        cv2.rectangle(img, (x, y), (x+w, y+h), (0, 255, 0), 2)\n",
    "        regioesClassificadas += 1\n",
    "    \n",
    "\n",
    "    \n",
    "\n",
    "print(len(contours), \" --- \", regioesClassificadas)\n",
    "plt.imshow(img, cmap='gray')\n",
    "plt.show()\n",
    "\n",
    "cv2.imwrite('contours-lines.pbm', img)\n",
    "\n",
    "\n"
   ]
  },
  {
   "cell_type": "code",
   "execution_count": 5,
   "metadata": {},
   "outputs": [
    {
     "data": {
      "image/png": "[encoded data removed]",
      "text/plain": [
       "<Figure size 432x288 with 2 Axes>"
      ]
     },
     "metadata": {},
     "output_type": "display_data"
    },
    {
     "data": {
      "image/png": "[encoded data removed]",
      "text/plain": [
       "<Figure size 432x288 with 2 Axes>"
      ]
     },
     "metadata": {},
     "output_type": "display_data"
    },
    {
     "data": {
      "image/png": "[encoded data removed]",
      "text/plain": [
       "<Figure size 432x288 with 1 Axes>"
      ]
     },
     "metadata": {
      "needs_background": "light"
     },
     "output_type": "display_data"
    },
    {
     "name": "stdout",
     "output_type": "stream",
     "text": [
      "312  ---  289\n"
     ]
    },
    {
     "data": {
      "image/png": "[encoded data removed]",
      "text/plain": [
       "<Figure size 432x288 with 1 Axes>"
      ]
     },
     "metadata": {
      "needs_background": "light"
     },
     "output_type": "display_data"
    },
    {
     "data": {
      "text/plain": [
       "True"
      ]
     },
     "execution_count": 5,
     "metadata": {},
     "output_type": "execute_result"
    }
   ],
   "source": [
    "# ----- Segmentação por palavras -----\n",
    "\n",
    "\n",
    "img = cv2.imread('bitmap.pbm', 0)\n",
    "\n",
    "# inverter a imagem\n",
    "img[img == 0] = 1\n",
    "img[img == 255] = 0\n",
    "\n",
    "# PASSOS DO TRABALHO\n",
    "kernel = np.ones((1, 12),np.uint8) #12 para separar palavras\n",
    "# 1 DILATACAO\n",
    "dilation = cv2.dilate(img,kernel,iterations = 1)\n",
    "# 2 EROSAO\n",
    "erosion1 = cv2.erode(dilation,kernel,iterations = 1)\n",
    "\n",
    "cv2.imwrite('dilation1-words.pbm', dilation)\n",
    "cv2.imwrite('erosion1-words.pbm', erosion1)\n",
    "\n",
    "plt.subplot(121),plt.imshow(dilation, cmap = 'gray')\n",
    "plt.title('Dilatacao'), plt.xticks([]), plt.yticks([])\n",
    "plt.subplot(122),plt.imshow(erosion1, cmap = 'gray')\n",
    "plt.title('Erosao'), plt.xticks([]), plt.yticks([])\n",
    "plt.show()\n",
    "\n",
    "kernel = np.ones((20, 1),np.uint8) #20 para separar palavras\n",
    "# 3 DILATACAO\n",
    "dilation = cv2.dilate(img,kernel,iterations = 1)\n",
    "# 4 EROSAO\n",
    "erosion2 = cv2.erode(dilation,kernel,iterations = 1)\n",
    "\n",
    "cv2.imwrite('dilation2-words.pbm', dilation)\n",
    "cv2.imwrite('erosion2-words.pbm', erosion2)\n",
    "\n",
    "plt.subplot(121),plt.imshow(dilation, cmap = 'gray')\n",
    "plt.title('Dilatacao'), plt.xticks([]), plt.yticks([])\n",
    "plt.subplot(122),plt.imshow(erosion2, cmap = 'gray')\n",
    "plt.title('Erosao'), plt.xticks([]), plt.yticks([])\n",
    "plt.show()\n",
    "\n",
    "# 5\n",
    "andArray = np.logical_and(erosion1, erosion2)\n",
    "\n",
    "step5 = np.where(andArray, 1, 0)\n",
    "step5 = np.uint8(step5)\n",
    "\n",
    "cv2.imwrite('step5-words.pbm', step5)\n",
    "\n",
    "# 6\n",
    "kernel = np.ones((1, 12),np.uint8) #12 para separar palavras\n",
    "closing = cv2.morphologyEx(step5, cv2.MORPH_CLOSE, kernel)\n",
    "\n",
    "cv2.imwrite('closing-words.pbm', closing)\n",
    "\n",
    "plt.imshow(closing, cmap='gray')\n",
    "plt.show()\n",
    "\n",
    "\n",
    "# 7\n",
    "contours, hier = cv2.findContours(closing, cv2.RETR_EXTERNAL, cv2.CHAIN_APPROX_SIMPLE)\n",
    "\n",
    "#volta imagem para seu estado inicial.\n",
    "img[img == 0] = 255\n",
    "img[img == 1] = 0\n",
    "img[img == 255] = 1\n",
    "\n",
    "        \n",
    "regioesClassificadas = 0\n",
    "for c in contours:\n",
    "    # pega dimensoes do retangulo\n",
    "    x, y, w, h = cv2.boundingRect(c)\n",
    "    \n",
    "    \n",
    "    array = img[y:y+h, x:x+w]\n",
    "    black = array[array == 0].size\n",
    "    white = array[array == 255].size\n",
    "    black_ratio = black/array.size\n",
    "    horz = horizontalTransitions(array)\n",
    "    vert = verticalTransitions(array)\n",
    "    #print(x, x+w, y, y+h, np.shape(array), \" --- \",black, white, \" --- \", black_ratio)\n",
    "    \n",
    "    # desenha retangulo apenas se ele eh classificado como texto.\n",
    "    if(black_ratio > 0.1) & (black_ratio < 0.8):\n",
    "        cv2.rectangle(img, (x, y), (x+w, y+h), (0, 255, 0), 2)\n",
    "        regioesClassificadas += 1\n",
    "    \n",
    "\n",
    "    \n",
    "\n",
    "print(len(contours), \" --- \", regioesClassificadas)\n",
    "plt.imshow(img, cmap='gray')\n",
    "plt.show()\n",
    "\n",
    "cv2.imwrite('contours-words.pbm', img)\n",
    "\n"
   ]
  }
 ],
 "metadata": {
  "kernelspec": {
   "display_name": "Python 3",
   "language": "python",
   "name": "python3"
  },
  "language_info": {
   "codemirror_mode": {
    "name": "ipython",
    "version": 3
   },
   "file_extension": ".py",
   "mimetype": "text/x-python",
   "name": "python",
   "nbconvert_exporter": "python",
   "pygments_lexer": "ipython3",
   "version": "3.6.10"
  }
 },
 "nbformat": 4,
 "nbformat_minor": 4
}

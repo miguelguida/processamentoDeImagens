{
 "cells": [
  {
   "cell_type": "code",
   "execution_count": 3,
   "metadata": {},
   "outputs": [
    {
     "data": {
      "image/png": "[encoded data removed]",
      "text/plain": [
       "<Figure size 432x288 with 2 Axes>"
      ]
     },
     "metadata": {},
     "output_type": "display_data"
    },
    {
     "data": {
      "image/png": "[encoded data removed]",
      "text/plain": [
       "<Figure size 432x288 with 2 Axes>"
      ]
     },
     "metadata": {},
     "output_type": "display_data"
    },
    {
     "data": {
      "image/png": "[encoded data removed]",
      "text/plain": [
       "<Figure size 432x288 with 1 Axes>"
      ]
     },
     "metadata": {
      "needs_background": "light"
     },
     "output_type": "display_data"
    },
    {
     "name": "stdout",
     "output_type": "stream",
     "text": [
      "54\n"
     ]
    },
    {
     "data": {
      "image/png": "[encoded data removed]",
      "text/plain": [
       "<Figure size 432x288 with 1 Axes>"
      ]
     },
     "metadata": {
      "needs_background": "light"
     },
     "output_type": "display_data"
    },
    {
     "name": "stdout",
     "output_type": "stream",
     "text": [
      "52\n"
     ]
    },
    {
     "data": {
      "text/plain": [
       "True"
      ]
     },
     "execution_count": 3,
     "metadata": {},
     "output_type": "execute_result"
    }
   ],
   "source": [
    "import cv2\n",
    "import numpy as np\n",
    "import matplotlib.pyplot as plt\n",
    "\n",
    "img = cv2.imread('bitmap.pbm', 0)\n",
    "\n",
    "img[img == 0] = 1\n",
    "img[img == 255] = 0\n",
    "img[img == 1] = 255\n",
    "\n",
    "cv2.imwrite('img-negative.png', img)\n",
    "\n",
    "\n",
    "# inverter a imagem\n",
    "# diferenciar branco de preto. Fazer um teste em imagem pequena \n",
    "\n",
    "\n",
    "# EROSION\n",
    "kernel = np.ones((1,10),np.uint8)  \n",
    "erosion = cv2.erode(img,kernel,iterations = 1)\n",
    "\n",
    "cv2.imwrite('erosion.pbm', erosion)\n",
    "#plt.imshow(erosion, cmap='gray')\n",
    "#plt.show()\n",
    "\n",
    "\n",
    "# DILATION\n",
    "kernel = np.ones((1, 6),np.uint8)\n",
    "dilation = cv2.dilate(img,kernel,iterations = 1)\n",
    "\n",
    "cv2.imwrite('dilation.pbm', dilation)\n",
    "#plt.imshow(dilation, cmap='gray')\n",
    "#plt.show()\n",
    "\n",
    "\n",
    "# PASSOS DO TRABALHO\n",
    "kernel = np.ones((1, 100),np.uint8) #10 para separar palavras\n",
    "# 1 DILATACAO\n",
    "dilation = cv2.dilate(img,kernel,iterations = 1)\n",
    "# 2 EROSAO\n",
    "erosion1 = cv2.erode(dilation,kernel,iterations = 1)\n",
    "\n",
    "cv2.imwrite('dilation1.png', dilation)\n",
    "cv2.imwrite('erosion1.png', erosion1)\n",
    "\n",
    "plt.subplot(121),plt.imshow(dilation, cmap = 'gray')\n",
    "plt.title('Input Image'), plt.xticks([]), plt.yticks([])\n",
    "plt.subplot(122),plt.imshow(erosion1, cmap = 'gray')\n",
    "plt.title('Magnitude Spectrum'), plt.xticks([]), plt.yticks([])\n",
    "plt.show()\n",
    "\n",
    "kernel = np.ones((200, 1),np.uint8) #20 para separar palavras\n",
    "# 3 DILATACAO\n",
    "dilation = cv2.dilate(img,kernel,iterations = 1)\n",
    "# 4 EROSAO\n",
    "erosion2 = cv2.erode(dilation,kernel,iterations = 1)\n",
    "\n",
    "cv2.imwrite('dilation2.png', dilation)\n",
    "cv2.imwrite('erosion2.png', erosion2)\n",
    "\n",
    "plt.subplot(121),plt.imshow(dilation, cmap = 'gray')\n",
    "plt.title('Input Image'), plt.xticks([]), plt.yticks([])\n",
    "plt.subplot(122),plt.imshow(erosion2, cmap = 'gray')\n",
    "plt.title('Magnitude Spectrum'), plt.xticks([]), plt.yticks([])\n",
    "plt.show()\n",
    "\n",
    "# 5\n",
    "andArray = np.logical_and(erosion1, erosion2)\n",
    "\n",
    "step5 = np.where(andArray, 255, 0)\n",
    "step5 = np.uint8(step5)\n",
    "\n",
    "cv2.imwrite('step5.png', step5)\n",
    "\n",
    "# 6\n",
    "kernel = np.ones((1, 30),np.uint8) #6 para separar palavras\n",
    "closing = cv2.morphologyEx(step5, cv2.MORPH_CLOSE, kernel)\n",
    "\n",
    "cv2.imwrite('closing.png', closing)\n",
    "\n",
    "plt.imshow(closing, cmap='gray')\n",
    "plt.show()\n",
    "\n",
    "# 7\n",
    "ret, labels = cv2.connectedComponents(closing)\n",
    "\n",
    "cv2.imwrite('labels.pbm', labels)\n",
    "print(ret)\n",
    "\n",
    "\n",
    "plt.imshow(labels, cmap='gray')\n",
    "plt.show()\n",
    "\n",
    "\n",
    "contours, hier = cv2.findContours(closing, cv2.RETR_EXTERNAL, cv2.CHAIN_APPROX_SIMPLE)\n",
    "\n",
    "img[img == 0] = 255\n",
    "\n",
    "img[img == 1] = 0\n",
    "#img[img == 255] = 1\n",
    "\n",
    "def horizontalTransitions(array):\n",
    "    count = 0\n",
    "    x, y = np.shape(array)\n",
    "    for i in range(0,x):\n",
    "        for j in range(0,y -1):\n",
    "            if array[i][j] != array[i][j+1]:\n",
    "                count += 1\n",
    "    return count\n",
    "\n",
    "def verticalTransitions(array):\n",
    "    count = 0\n",
    "    x, y = np.shape(array)\n",
    "    for i in range(0,x -1):\n",
    "        for j in range(0,y):\n",
    "            if array[i][j] != array[i+1][j]:\n",
    "                count += 1\n",
    "    return count\n",
    "        \n",
    "\n",
    "for c in contours:\n",
    "    # get the bounding rect\n",
    "    x, y, w, h = cv2.boundingRect(c)\n",
    "    # draw a green rectangle to visualize the bounding rect\n",
    "    \n",
    "    array = img[y:y+h, x:x+w]\n",
    "    black = array[array == 0].size\n",
    "    white = array[array == 1].size\n",
    "    black_ratio = black/array.size\n",
    "    horz = horizontalTransitions(array)\n",
    "    vert = verticalTransitions(array)\n",
    "    #print(x, x+w, y, y+h, np.shape(array), \" --- \",black, white, \" --- \", horz, vert)\n",
    "    \n",
    "    if(black_ratio > 0.1) & (black_ratio < 0.8):\n",
    "        cv2.rectangle(img, (x, y), (x+w, y+h), (0, 255, 0), 2)\n",
    "    \n",
    "\n",
    "    \n",
    "\n",
    "print(len(contours))\n",
    "\n",
    "\n",
    "cv2.imwrite('contours-line.png', img)\n",
    "\n",
    "\n"
   ]
  },
  {
   "cell_type": "code",
   "execution_count": null,
   "metadata": {},
   "outputs": [],
   "source": []
  }
 ],
 "metadata": {
  "kernelspec": {
   "display_name": "Python 3",
   "language": "python",
   "name": "python3"
  },
  "language_info": {
   "codemirror_mode": {
    "name": "ipython",
    "version": 3
   },
   "file_extension": ".py",
   "mimetype": "text/x-python",
   "name": "python",
   "nbconvert_exporter": "python",
   "pygments_lexer": "ipython3",
   "version": "3.7.6"
  }
 },
 "nbformat": 4,
 "nbformat_minor": 4
}

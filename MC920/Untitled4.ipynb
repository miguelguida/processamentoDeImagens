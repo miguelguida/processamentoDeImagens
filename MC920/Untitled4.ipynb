{
 "cells": [
  {
   "cell_type": "code",
   "execution_count": 2,
   "metadata": {},
   "outputs": [
    {
     "name": "stdout",
     "output_type": "stream",
     "text": [
      "100\n"
     ]
    }
   ],
   "source": [
    "import numpy as np\n",
    "import cv2\n",
    "\n",
    "img = cv2.imread('grayimage.jpg', cv2.IMREAD_GRAYSCALE)\n",
    "\n",
    "\n",
    "#Negativ\n",
    "#img = 255 - img\n",
    "\n",
    "ratio = 50/127\n",
    "\n",
    "img[:] = np.around(((ratio * img) + 100), decimals=0)\n",
    "print (img[0][0])\n",
    "\n",
    "#mirror columns\n",
    "#img[::2] = img[::2,::-1]\n",
    "\n",
    "#mirror rows\n",
    "img[256:] = img[255::-1]\n",
    "\n",
    "cv2.imshow('image', img)\n",
    "\n",
    "cv2.waitKey(0)\n",
    "cv2.destroyAllWindows()"
   ]
  }
 ],
 "metadata": {
  "kernelspec": {
   "display_name": "Python 3",
   "language": "python",
   "name": "python3"
  },
  "language_info": {
   "codemirror_mode": {
    "name": "ipython",
    "version": 3
   },
   "file_extension": ".py",
   "mimetype": "text/x-python",
   "name": "python",
   "nbconvert_exporter": "python",
   "pygments_lexer": "ipython3",
   "version": "3.7.6"
  }
 },
 "nbformat": 4,
 "nbformat_minor": 4
}
